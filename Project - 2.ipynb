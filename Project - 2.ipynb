{
 "cells": [
  {
   "cell_type": "code",
   "execution_count": 56,
   "id": "193d8ee3",
   "metadata": {},
   "outputs": [],
   "source": [
    "from textblob import TextBlob\n",
    "import glob\n",
    "import csv\n",
    "import os\n",
    "from sklearn import model_selection\n",
    "import numpy as np\n",
    "import pandas as pd\n",
    "from pgmpy.models import BayesianModel\n",
    "from pgmpy.inference import VariableElimination\n",
    "from pgmpy.factors.discrete import TabularCPD\n",
    "from sklearn.preprocessing import normalize\n"
   ]
  },
  {
   "cell_type": "code",
   "execution_count": 57,
   "id": "a21b9eb5",
   "metadata": {},
   "outputs": [
    {
     "ename": "FileNotFoundError",
     "evalue": "[Errno 2] No such file or directory: './Files/Positive'",
     "output_type": "error",
     "traceback": [
      "\u001b[0;31m---------------------------------------------------------------------------\u001b[0m",
      "\u001b[0;31mFileNotFoundError\u001b[0m                         Traceback (most recent call last)",
      "Cell \u001b[0;32mIn[57], line 16\u001b[0m\n\u001b[1;32m     13\u001b[0m results \u001b[38;5;241m=\u001b[39m []\n\u001b[1;32m     14\u001b[0m Sentiment \u001b[38;5;241m=\u001b[39m \u001b[38;5;124m'\u001b[39m\u001b[38;5;124m \u001b[39m\u001b[38;5;124m'\u001b[39m\n\u001b[0;32m---> 16\u001b[0m \u001b[38;5;28;01mfor\u001b[39;00m filename \u001b[38;5;129;01min\u001b[39;00m \u001b[43mos\u001b[49m\u001b[38;5;241;43m.\u001b[39;49m\u001b[43mlistdir\u001b[49m\u001b[43m(\u001b[49m\u001b[43mfolder_path\u001b[49m\u001b[43m)\u001b[49m:\n\u001b[1;32m     17\u001b[0m     file_path \u001b[38;5;241m=\u001b[39m os\u001b[38;5;241m.\u001b[39mpath\u001b[38;5;241m.\u001b[39mjoin(folder_path, filename)\n\u001b[1;32m     18\u001b[0m     \u001b[38;5;28;01mif\u001b[39;00m filename\u001b[38;5;241m.\u001b[39mendswith(\u001b[38;5;124m\"\u001b[39m\u001b[38;5;124m.txt\u001b[39m\u001b[38;5;124m\"\u001b[39m): \u001b[38;5;66;03m# Check if the file is a text file\u001b[39;00m\n",
      "\u001b[0;31mFileNotFoundError\u001b[0m: [Errno 2] No such file or directory: './Files/Positive'"
     ]
    }
   ],
   "source": [
    "\n",
    "# Load files\n",
    "folder_path = \"./txt_sentiment/neg\"\n",
    "\n",
    "def find_sentiment(polarity):\n",
    "    if polarity >0:\n",
    "        return 'Positive'\n",
    "    elif polarity < 0:\n",
    "        return 'Negative'\n",
    "    else: \n",
    "        return 'Neutral'\n",
    "\n",
    "# Perform sentiment analysis on each file and store results in a list\n",
    "results = []\n",
    "Sentiment = ' '\n",
    "\n",
    "for filename in os.listdir(folder_path):\n",
    "    file_path = os.path.join(folder_path, filename)\n",
    "    if filename.endswith(\".txt\"): # Check if the file is a text file\n",
    "        with open(file_path, 'r') as f:\n",
    "            content = f.read()\n",
    "            blob = TextBlob(content)\n",
    "            polarity = blob.sentiment.polarity\n",
    "            subjectivity = blob.sentiment.subjectivity\n",
    "            sentiment = find_sentiment(polarity)\n",
    "            results.append({'file': filename, 'polarity': polarity, 'subjectivity': subjectivity, 'sentiment': sentiment})\n",
    "            \n",
    "            \n",
    "     \n",
    "    print(f\"File: {file_path}\")\n",
    "    print(f\"polarity_scores: {polarity}\")\n",
    "    print(f\"Subjectivity: {subjectivity}\")\n",
    "    print(f\"Sentiment: {sentiment}\")\n",
    "    print(\"-----------------------------\")\n",
    "\n",
    "\n",
    "# Write results to a CSV file\n",
    "csv_file = 'Blob_pos_results.csv'\n",
    "with open(csv_file, 'w', newline='') as csvfile:\n",
    "    fieldnames = ['File', 'Polarity', 'Subjectivity', 'sentiment']\n",
    "    writer = csv.DictWriter(csvfile, fieldnames=fieldnames)\n",
    "    writer.writeheader()\n",
    "    for result in results:\n",
    "        writer.writerow({'File': result['file'], \n",
    "                         'Polarity': result['polarity'], \n",
    "                         'Subjectivity': result['subjectivity'], \n",
    "                         'sentiment': result['sentiment']})\n",
    "\n",
    "print('Sentiment analysis results have been written to:', csv_file)\n"
   ]
  },
  {
   "cell_type": "code",
   "execution_count": 58,
   "id": "21a770f0",
   "metadata": {},
   "outputs": [
    {
     "ename": "FileNotFoundError",
     "evalue": "[Errno 2] No such file or directory: './txt_sentiment/neg'",
     "output_type": "error",
     "traceback": [
      "\u001b[0;31m---------------------------------------------------------------------------\u001b[0m",
      "\u001b[0;31mFileNotFoundError\u001b[0m                         Traceback (most recent call last)",
      "Cell \u001b[0;32mIn[58], line 16\u001b[0m\n\u001b[1;32m     13\u001b[0m results \u001b[38;5;241m=\u001b[39m []\n\u001b[1;32m     14\u001b[0m Sentiment \u001b[38;5;241m=\u001b[39m \u001b[38;5;124m'\u001b[39m\u001b[38;5;124m \u001b[39m\u001b[38;5;124m'\u001b[39m\n\u001b[0;32m---> 16\u001b[0m \u001b[38;5;28;01mfor\u001b[39;00m filename \u001b[38;5;129;01min\u001b[39;00m \u001b[43mos\u001b[49m\u001b[38;5;241;43m.\u001b[39;49m\u001b[43mlistdir\u001b[49m\u001b[43m(\u001b[49m\u001b[43mfolder_path\u001b[49m\u001b[43m)\u001b[49m:\n\u001b[1;32m     17\u001b[0m     file_path \u001b[38;5;241m=\u001b[39m os\u001b[38;5;241m.\u001b[39mpath\u001b[38;5;241m.\u001b[39mjoin(folder_path, filename)\n\u001b[1;32m     18\u001b[0m     \u001b[38;5;28;01mif\u001b[39;00m filename\u001b[38;5;241m.\u001b[39mendswith(\u001b[38;5;124m\"\u001b[39m\u001b[38;5;124m.txt\u001b[39m\u001b[38;5;124m\"\u001b[39m): \u001b[38;5;66;03m# Check if the file is a text file\u001b[39;00m\n",
      "\u001b[0;31mFileNotFoundError\u001b[0m: [Errno 2] No such file or directory: './txt_sentiment/neg'"
     ]
    }
   ],
   "source": [
    "\n",
    "# Load files\n",
    "folder_path = \"./txt_sentiment/neg\"\n",
    "\n",
    "def find_sentiment(polarity):\n",
    "    if polarity >0:\n",
    "        return 'Positive'\n",
    "    elif polarity < 0:\n",
    "        return 'Negative'\n",
    "    else: \n",
    "        return 'Neutral'\n",
    "\n",
    "# Perform sentiment analysis on each file and store results in a list\n",
    "results = []\n",
    "Sentiment = ' '\n",
    "\n",
    "for filename in os.listdir(folder_path):\n",
    "    file_path = os.path.join(folder_path, filename)\n",
    "    if filename.endswith(\".txt\"): # Check if the file is a text file\n",
    "        with open(file_path, 'r') as f:\n",
    "            content = f.read()\n",
    "            blob = TextBlob(content)\n",
    "            polarity = blob.sentiment.polarity\n",
    "            subjectivity = blob.sentiment.subjectivity\n",
    "            sentiment = find_sentiment(polarity)\n",
    "            results.append({'file': filename, 'polarity': polarity, 'subjectivity': subjectivity, 'sentiment': sentiment})\n",
    "            \n",
    "            \n",
    "     \n",
    "    print(f\"File: {file_path}\")\n",
    "    print(f\"polarity_scores: {polarity}\")\n",
    "    print(f\"Subjectivity: {subjectivity}\")\n",
    "    print(f\"Sentiment: {sentiment}\")\n",
    "    print(\"-----------------------------\")\n",
    "\n",
    "\n",
    "# Write results to a CSV file\n",
    "csv_file = 'Blob_neg_results.csv'\n",
    "with open(csv_file, 'w', newline='') as csvfile:\n",
    "    fieldnames = ['File', 'Polarity', 'Subjectivity', 'sentiment']\n",
    "    writer = csv.DictWriter(csvfile, fieldnames=fieldnames)\n",
    "    writer.writeheader()\n",
    "    for result in results:\n",
    "        writer.writerow({'File': result['file'], \n",
    "                         'Polarity': result['polarity'], \n",
    "                         'Subjectivity': result['subjectivity'], \n",
    "                         'sentiment': result['sentiment']})\n",
    "\n",
    "print('Sentiment analysis results have been written to:', csv_file)\n"
   ]
  },
  {
   "cell_type": "code",
   "execution_count": 59,
   "id": "af8c30e7",
   "metadata": {},
   "outputs": [
    {
     "ename": "FileNotFoundError",
     "evalue": "[Errno 2] No such file or directory: './txt_sentiment/pos'",
     "output_type": "error",
     "traceback": [
      "\u001b[0;31m---------------------------------------------------------------------------\u001b[0m",
      "\u001b[0;31mFileNotFoundError\u001b[0m                         Traceback (most recent call last)",
      "Cell \u001b[0;32mIn[59], line 9\u001b[0m\n\u001b[1;32m      6\u001b[0m negative_counter \u001b[38;5;241m=\u001b[39m \u001b[38;5;241m0\u001b[39m\n\u001b[1;32m      8\u001b[0m \u001b[38;5;66;03m# Loop through all the files in the folder\u001b[39;00m\n\u001b[0;32m----> 9\u001b[0m \u001b[38;5;28;01mfor\u001b[39;00m filename \u001b[38;5;129;01min\u001b[39;00m \u001b[43mos\u001b[49m\u001b[38;5;241;43m.\u001b[39;49m\u001b[43mlistdir\u001b[49m\u001b[43m(\u001b[49m\u001b[43mfolder_path\u001b[49m\u001b[43m)\u001b[49m:\n\u001b[1;32m     10\u001b[0m     \u001b[38;5;28;01mif\u001b[39;00m filename\u001b[38;5;241m.\u001b[39mendswith(\u001b[38;5;124m\"\u001b[39m\u001b[38;5;124m.txt\u001b[39m\u001b[38;5;124m\"\u001b[39m):\n\u001b[1;32m     11\u001b[0m         file_path \u001b[38;5;241m=\u001b[39m os\u001b[38;5;241m.\u001b[39mpath\u001b[38;5;241m.\u001b[39mjoin(folder_path, filename)\n",
      "\u001b[0;31mFileNotFoundError\u001b[0m: [Errno 2] No such file or directory: './txt_sentiment/pos'"
     ]
    }
   ],
   "source": [
    "# Specify the path to the folder containing the text files\n",
    "folder_path = \"./txt_sentiment/pos\"\n",
    "\n",
    "# Create counters for positive and negative accuracy\n",
    "positive_counter = 0\n",
    "negative_counter = 0\n",
    "\n",
    "# Loop through all the files in the folder\n",
    "for filename in os.listdir(folder_path):\n",
    "    if filename.endswith(\".txt\"):\n",
    "        file_path = os.path.join(folder_path, filename)\n",
    "\n",
    "        # Read the contents of the text file\n",
    "        with open(file_path, \"r\") as file:\n",
    "            text = file.read()\n",
    "\n",
    "        # Perform polarity check using TextBlob\n",
    "        blob = TextBlob(text)\n",
    "        polarity = blob.sentiment.polarity\n",
    "\n",
    "        # Check positive accuracy\n",
    "        if polarity > 0:\n",
    "            positive_counter += 1\n",
    "\n",
    "        # Check negative accuracy\n",
    "        if polarity < 0:\n",
    "            negative_counter += 1\n",
    "\n",
    "# Calculate total files count\n",
    "total_files = len(os.listdir(folder_path))\n",
    "\n",
    "# Calculate positive accuracy and negative accuracy\n",
    "positive_accuracy = (positive_counter / total_files) * 100\n",
    "negative_accuracy = (negative_counter / total_files) * 100\n",
    "\n",
    "# Print the positive and negative accuracy\n",
    "print(f\"Positive accuracy ={positive_accuracy} % via {total_files} samples \")\n",
    "print(f\"Negative accuracy ={negative_accuracy} % via {total_files} samples\")\n"
   ]
  },
  {
   "cell_type": "code",
   "execution_count": 60,
   "id": "c7297d85",
   "metadata": {},
   "outputs": [
    {
     "ename": "FileNotFoundError",
     "evalue": "[Errno 2] No such file or directory: './txt_sentiment/neg'",
     "output_type": "error",
     "traceback": [
      "\u001b[0;31m---------------------------------------------------------------------------\u001b[0m",
      "\u001b[0;31mFileNotFoundError\u001b[0m                         Traceback (most recent call last)",
      "Cell \u001b[0;32mIn[60], line 9\u001b[0m\n\u001b[1;32m      6\u001b[0m negative_counter \u001b[38;5;241m=\u001b[39m \u001b[38;5;241m0\u001b[39m\n\u001b[1;32m      8\u001b[0m \u001b[38;5;66;03m# Loop through all the files in the folder\u001b[39;00m\n\u001b[0;32m----> 9\u001b[0m \u001b[38;5;28;01mfor\u001b[39;00m filename \u001b[38;5;129;01min\u001b[39;00m \u001b[43mos\u001b[49m\u001b[38;5;241;43m.\u001b[39;49m\u001b[43mlistdir\u001b[49m\u001b[43m(\u001b[49m\u001b[43mfolder_path\u001b[49m\u001b[43m)\u001b[49m:\n\u001b[1;32m     10\u001b[0m     \u001b[38;5;28;01mif\u001b[39;00m filename\u001b[38;5;241m.\u001b[39mendswith(\u001b[38;5;124m\"\u001b[39m\u001b[38;5;124m.txt\u001b[39m\u001b[38;5;124m\"\u001b[39m):\n\u001b[1;32m     11\u001b[0m         file_path \u001b[38;5;241m=\u001b[39m os\u001b[38;5;241m.\u001b[39mpath\u001b[38;5;241m.\u001b[39mjoin(folder_path, filename)\n",
      "\u001b[0;31mFileNotFoundError\u001b[0m: [Errno 2] No such file or directory: './txt_sentiment/neg'"
     ]
    }
   ],
   "source": [
    "# Specify the path to the folder containing the text files\n",
    "folder_path = \"./txt_sentiment/neg\"\n",
    "\n",
    "# Create counters for positive and negative accuracy\n",
    "positive_counter = 0\n",
    "negative_counter = 0\n",
    "\n",
    "# Loop through all the files in the folder\n",
    "for filename in os.listdir(folder_path):\n",
    "    if filename.endswith(\".txt\"):\n",
    "        file_path = os.path.join(folder_path, filename)\n",
    "\n",
    "        # Read the contents of the text file\n",
    "        with open(file_path, \"r\") as file:\n",
    "            text = file.read()\n",
    "\n",
    "        # Perform polarity check using TextBlob\n",
    "        blob = TextBlob(text)\n",
    "        polarity = blob.sentiment.polarity\n",
    "\n",
    "        # Check positive accuracy\n",
    "        if polarity > 0:\n",
    "            positive_counter += 1\n",
    "\n",
    "        # Check negative accuracy\n",
    "        if polarity < 0:\n",
    "            negative_counter += 1\n",
    "\n",
    "# Calculate total files count\n",
    "total_files = len(os.listdir(folder_path))\n",
    "\n",
    "# Calculate positive accuracy and negative accuracy\n",
    "positive_accuracy = (positive_counter / total_files) * 100\n",
    "negative_accuracy = (negative_counter / total_files) * 100\n",
    "\n",
    "# Print the positive and negative accuracy\n",
    "print(f\"Positive accuracy ={positive_accuracy} % via {total_files} samples \")\n",
    "print(f\"Negative accuracy ={negative_accuracy} % via {total_files} samples\")\n"
   ]
  },
  {
   "cell_type": "code",
   "execution_count": 47,
   "id": "347a5a64",
   "metadata": {},
   "outputs": [
    {
     "name": "stdout",
     "output_type": "stream",
     "text": [
      "0      cv676_22202.txt\n",
      "1      cv839_22807.txt\n",
      "2       cv155_7845.txt\n",
      "3      cv465_23401.txt\n",
      "4      cv398_17047.txt\n",
      "            ...       \n",
      "995    cv159_29374.txt\n",
      "996    cv085_15286.txt\n",
      "997    cv081_18241.txt\n",
      "998    cv012_29411.txt\n",
      "999    cv252_24974.txt\n",
      "Name: File, Length: 1000, dtype: object 0      0.026240\n",
      "1      0.076040\n",
      "2     -0.128733\n",
      "3     -0.000485\n",
      "4      0.122770\n",
      "         ...   \n",
      "995    0.145489\n",
      "996    0.102723\n",
      "997    0.042473\n",
      "998   -0.048656\n",
      "999   -0.090655\n",
      "Name: Polarity, Length: 1000, dtype: float64 0      0.537791\n",
      "1      0.513330\n",
      "2      0.612091\n",
      "3      0.558488\n",
      "4      0.384647\n",
      "         ...   \n",
      "995    0.539967\n",
      "996    0.577705\n",
      "997    0.452957\n",
      "998    0.426700\n",
      "999    0.544169\n",
      "Name: Subjectivity, Length: 1000, dtype: float64 0      Positive\n",
      "1      Positive\n",
      "2      Negative\n",
      "3      Negative\n",
      "4      Positive\n",
      "         ...   \n",
      "995    Positive\n",
      "996    Positive\n",
      "997    Positive\n",
      "998    Negative\n",
      "999    Negative\n",
      "Name: sentiment, Length: 1000, dtype: object\n"
     ]
    }
   ],
   "source": [
    "import pandas as pd\n",
    "\n",
    "# Read the CSV file into a DataFrame\n",
    "df = pd.read_csv('Blob_neg_results.csv')\n",
    "\n",
    "# Access and process the data as needed\n",
    "column1 = data['File']\n",
    "column2 = data['Polarity']\n",
    "column3 = data ['Subjectivity']\n",
    "column4 = data ['sentiment']\n",
    "\n",
    "\n",
    "# Process the data as needed\n",
    "print(column1, column2, column3, column4)\n",
    "\n",
    "#df.head()"
   ]
  },
  {
   "cell_type": "code",
   "execution_count": null,
   "id": "ed1d08e6",
   "metadata": {},
   "outputs": [],
   "source": []
  },
  {
   "cell_type": "code",
   "execution_count": 48,
   "id": "bec8deea",
   "metadata": {},
   "outputs": [
    {
     "name": "stdout",
     "output_type": "stream",
     "text": [
      "771 229 0\n"
     ]
    }
   ],
   "source": [
    "Positive = 0\n",
    "Negative = 0\n",
    "Neutral = 0\n",
    "\n",
    "column_values = data['sentiment']\n",
    "\n",
    "# Process the column values as needed\n",
    "for value in column_values:\n",
    "    if value == 'Positive':\n",
    "        Positive += 1\n",
    "        \n",
    "    elif value == 'Negative':\n",
    "        Negative += 1\n",
    "        \n",
    "    elif value == 'Neutral':\n",
    "        Neutral += 1\n",
    "        \n",
    "            \n",
    "print(Positive, Negative,Neutral)\n",
    "\n"
   ]
  },
  {
   "cell_type": "code",
   "execution_count": 49,
   "id": "91aa01dd",
   "metadata": {},
   "outputs": [
    {
     "name": "stdout",
     "output_type": "stream",
     "text": [
      "0      Positive\n",
      "1      Positive\n",
      "2      Negative\n",
      "3      Negative\n",
      "4      Positive\n",
      "         ...   \n",
      "995    Positive\n",
      "996    Positive\n",
      "997    Positive\n",
      "998    Negative\n",
      "999    Negative\n",
      "Name: sentiment, Length: 1000, dtype: object\n"
     ]
    }
   ],
   "source": [
    "List_of_Labels = data ['sentiment']\n",
    "print(List_of_Labels)"
   ]
  },
  {
   "cell_type": "code",
   "execution_count": 50,
   "id": "bca5626f",
   "metadata": {},
   "outputs": [],
   "source": [
    "# edge from Emotion node to each label node i.e. 809 edges\n",
    "edges_list = [(\"Emotion\", label) for label in List_of_Labels]\n",
    "# edge from Emotion node to CNN node\n",
    "edges_list.append((\"Emotion\", \"CNN\"))"
   ]
  },
  {
   "cell_type": "code",
   "execution_count": 51,
   "id": "bf68c43e",
   "metadata": {},
   "outputs": [
    {
     "name": "stderr",
     "output_type": "stream",
     "text": [
      "/Users/neelimarajawat/PycharmProjects/NR1.0/venv/lib/python3.11/site-packages/pgmpy/models/BayesianModel.py:8: FutureWarning: BayesianModel has been renamed to BayesianNetwork. Please use BayesianNetwork class, BayesianModel will be removed in future.\n",
      "  warnings.warn(\n"
     ]
    }
   ],
   "source": [
    "model = BayesianModel()"
   ]
  },
  {
   "cell_type": "code",
   "execution_count": 52,
   "id": "ac5304f1",
   "metadata": {},
   "outputs": [],
   "source": [
    "# Add all the labels from labels_list as nodes\n",
    "model.add_nodes_from(List_of_Labels)\n",
    "# Add all the edges from edges_list\n",
    "model.add_edges_from(edges_list)"
   ]
  },
  {
   "cell_type": "code",
   "execution_count": 53,
   "id": "295f6a31",
   "metadata": {},
   "outputs": [],
   "source": [
    "# Name of the node is \"Emotion\"\n",
    "# Total variables = 3 i.e. 1 for each emotion\n",
    "# Since, each emotion is equally likely so each will have 1/3 probability\n",
    "#emotion_cpd = TabularCPD(\"Emotion\", 3, values=[[1./3,1./3,1./3]])\n",
    "\n",
    "emotion_cpd = TabularCPD(\"Emotion\", 3, values=[[1./3], [1./3], [1./3]])\n"
   ]
  },
  {
   "cell_type": "code",
   "execution_count": 54,
   "id": "faa66dc3",
   "metadata": {},
   "outputs": [
    {
     "name": "stdout",
     "output_type": "stream",
     "text": [
      "+------------+----------+\n",
      "| Emotion(0) | 0.333333 |\n",
      "+------------+----------+\n",
      "| Emotion(1) | 0.333333 |\n",
      "+------------+----------+\n",
      "| Emotion(2) | 0.333333 |\n",
      "+------------+----------+\n"
     ]
    }
   ],
   "source": [
    "print(emotion_cpd)"
   ]
  },
  {
   "cell_type": "code",
   "execution_count": 1,
   "id": "73c006d0",
   "metadata": {},
   "outputs": [
    {
     "ename": "NameError",
     "evalue": "name 'os' is not defined",
     "output_type": "error",
     "traceback": [
      "\u001b[0;31m---------------------------------------------------------------------------\u001b[0m",
      "\u001b[0;31mNameError\u001b[0m                                 Traceback (most recent call last)",
      "Cell \u001b[0;32mIn[1], line 5\u001b[0m\n\u001b[1;32m      3\u001b[0m \u001b[38;5;66;03m#root_dir='text'\u001b[39;00m\n\u001b[1;32m      4\u001b[0m root_dir\u001b[38;5;241m=\u001b[39m\u001b[38;5;124m'\u001b[39m\u001b[38;5;124memail\u001b[39m\u001b[38;5;124m'\u001b[39m\n\u001b[0;32m----> 5\u001b[0m \u001b[38;5;28;01mfor\u001b[39;00m category \u001b[38;5;129;01min\u001b[39;00m \u001b[43mos\u001b[49m\u001b[38;5;241m.\u001b[39mlistdir(root_dir):\n\u001b[1;32m      6\u001b[0m     \u001b[38;5;28;01mfor\u001b[39;00m document \u001b[38;5;129;01min\u001b[39;00m os\u001b[38;5;241m.\u001b[39mlistdir(root_dir\u001b[38;5;241m+\u001b[39m\u001b[38;5;124m'\u001b[39m\u001b[38;5;124m/\u001b[39m\u001b[38;5;124m'\u001b[39m\u001b[38;5;241m+\u001b[39mcategory):\n\u001b[1;32m      7\u001b[0m         \u001b[38;5;28;01mwith\u001b[39;00m \u001b[38;5;28mopen\u001b[39m(root_dir\u001b[38;5;241m+\u001b[39m\u001b[38;5;124m'\u001b[39m\u001b[38;5;124m/\u001b[39m\u001b[38;5;124m'\u001b[39m\u001b[38;5;241m+\u001b[39mcategory\u001b[38;5;241m+\u001b[39m\u001b[38;5;124m'\u001b[39m\u001b[38;5;124m/\u001b[39m\u001b[38;5;124m'\u001b[39m\u001b[38;5;241m+\u001b[39mdocument, \u001b[38;5;124m\"\u001b[39m\u001b[38;5;124mr\u001b[39m\u001b[38;5;124m\"\u001b[39m) \u001b[38;5;28;01mas\u001b[39;00m f:\n",
      "\u001b[0;31mNameError\u001b[0m: name 'os' is not defined"
     ]
    }
   ],
   "source": [
    "X = [] # an element of X is represented as (filename, text)\n",
    "Y = [] # an element of Y represents the category of the corresponding X element\n",
    "#root_dir='text'\n",
    "root_dir='email'\n",
    "for category in os.listdir(root_dir):\n",
    "    for document in os.listdir(root_dir+'/'+category):\n",
    "        with open(root_dir+'/'+category+'/'+document, \"r\") as f:\n",
    "            X.append(f.read())\n",
    "            Y.append(category)\n",
    "\n",
    "print(\"there are %d messages/files\\n %s \" % (len(X),X[0:2]))\n",
    "print(\"there are %d labels/files\\n %s \" % (len(Y),Y[0:1]))"
   ]
  },
  {
   "cell_type": "code",
   "execution_count": 55,
   "id": "b5361a1a",
   "metadata": {},
   "outputs": [
    {
     "ename": "NameError",
     "evalue": "name 'X' is not defined",
     "output_type": "error",
     "traceback": [
      "\u001b[0;31m---------------------------------------------------------------------------\u001b[0m",
      "\u001b[0;31mNameError\u001b[0m                                 Traceback (most recent call last)",
      "Cell \u001b[0;32mIn[55], line 1\u001b[0m\n\u001b[0;32m----> 1\u001b[0m X_train, X_test, Y_train, Y_test \u001b[38;5;241m=\u001b[39m model_selection\u001b[38;5;241m.\u001b[39mtrain_test_split(\u001b[43mX\u001b[49m, Y, test_size\u001b[38;5;241m=\u001b[39m\u001b[38;5;241m0.25\u001b[39m)\n\u001b[1;32m      2\u001b[0m \u001b[38;5;28mlen\u001b[39m(X_train),\u001b[38;5;28mlen\u001b[39m(Y_train),\u001b[38;5;28mlen\u001b[39m(X_test),\u001b[38;5;28mlen\u001b[39m(Y_test)\n",
      "\u001b[0;31mNameError\u001b[0m: name 'X' is not defined"
     ]
    }
   ],
   "source": [
    "X_train, X_test, Y_train, Y_test = model_selection.train_test_split(X, Y, test_size=0.25)\n",
    "len(X_train),len(Y_train),len(X_test),len(Y_test)"
   ]
  },
  {
   "cell_type": "code",
   "execution_count": null,
   "id": "4bb0f5bc",
   "metadata": {},
   "outputs": [],
   "source": []
  },
  {
   "cell_type": "code",
   "execution_count": null,
   "id": "0f034c49",
   "metadata": {},
   "outputs": [],
   "source": []
  },
  {
   "cell_type": "code",
   "execution_count": null,
   "id": "015d86af",
   "metadata": {},
   "outputs": [],
   "source": []
  },
  {
   "cell_type": "code",
   "execution_count": null,
   "id": "e7bbcc83",
   "metadata": {},
   "outputs": [],
   "source": []
  }
 ],
 "metadata": {
  "kernelspec": {
   "display_name": "Python 3 (ipykernel)",
   "language": "python",
   "name": "python3"
  },
  "language_info": {
   "codemirror_mode": {
    "name": "ipython",
    "version": 3
   },
   "file_extension": ".py",
   "mimetype": "text/x-python",
   "name": "python",
   "nbconvert_exporter": "python",
   "pygments_lexer": "ipython3",
   "version": "3.11.2"
  }
 },
 "nbformat": 4,
 "nbformat_minor": 5
}
